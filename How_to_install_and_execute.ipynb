{
  "nbformat": 4,
  "nbformat_minor": 0,
  "metadata": {
    "colab": {
      "name": "How to install and execute.ipynb",
      "provenance": [],
      "authorship_tag": "ABX9TyMvLeQLWsBnA+EqOyq6+jQy",
      "include_colab_link": true
    },
    "kernelspec": {
      "name": "python3",
      "display_name": "Python 3"
    },
    "language_info": {
      "name": "python"
    }
  },
  "cells": [
    {
      "cell_type": "markdown",
      "metadata": {
        "id": "view-in-github",
        "colab_type": "text"
      },
      "source": [
        "<a href=\"https://colab.research.google.com/github/dqj5182/Sparse_COO_Tensor_Multiplication_Pytorch/blob/main/How_to_install_and_execute.ipynb\" target=\"_parent\"><img src=\"https://colab.research.google.com/assets/colab-badge.svg\" alt=\"Open In Colab\"/></a>"
      ]
    },
    {
      "cell_type": "markdown",
      "metadata": {
        "id": "xpg5xR_qHHPe"
      },
      "source": [
        "##**Install using pip**"
      ]
    },
    {
      "cell_type": "code",
      "metadata": {
        "colab": {
          "base_uri": "https://localhost:8080/"
        },
        "id": "13VLQ4Qh_HcP",
        "outputId": "1bd220cf-0a3c-4e19-d71a-8b8584244afa"
      },
      "source": [
        "!pip install SparseCOOTensorMulPyTorch"
      ],
      "execution_count": 28,
      "outputs": [
        {
          "output_type": "stream",
          "text": [
            "Collecting SparseCOOTensorMulPyTorch\n",
            "  Downloading SparseCOOTensorMulPyTorch-0.0.1.tar.gz (2.7 MB)\n",
            "\u001b[K     |████████████████████████████████| 2.7 MB 31.4 MB/s \n",
            "\u001b[?25hRequirement already satisfied: torch in /usr/local/lib/python3.7/dist-packages (from SparseCOOTensorMulPyTorch) (1.9.0+cu102)\n",
            "Requirement already satisfied: numpy in /usr/local/lib/python3.7/dist-packages (from SparseCOOTensorMulPyTorch) (1.19.5)\n",
            "Requirement already satisfied: typing-extensions in /usr/local/lib/python3.7/dist-packages (from torch->SparseCOOTensorMulPyTorch) (3.7.4.3)\n",
            "Building wheels for collected packages: SparseCOOTensorMulPyTorch\n",
            "  Building wheel for SparseCOOTensorMulPyTorch (setup.py) ... \u001b[?25l\u001b[?25hdone\n",
            "  Created wheel for SparseCOOTensorMulPyTorch: filename=SparseCOOTensorMulPyTorch-0.0.1-py3-none-any.whl size=3870 sha256=759b7cfa62b18527b4c620e4e4aecae062a350668984d4f53059459d1e4941a0\n",
            "  Stored in directory: /root/.cache/pip/wheels/0d/ad/c3/997aa91483d95552992b9c587c755e617629c506b264678f74\n",
            "Successfully built SparseCOOTensorMulPyTorch\n",
            "Installing collected packages: SparseCOOTensorMulPyTorch\n",
            "Successfully installed SparseCOOTensorMulPyTorch-0.0.1\n"
          ],
          "name": "stdout"
        }
      ]
    },
    {
      "cell_type": "markdown",
      "metadata": {
        "id": "ntH6og-rHjnd"
      },
      "source": [
        "##**Import our module**"
      ]
    },
    {
      "cell_type": "code",
      "metadata": {
        "id": "wbV-BRA8_ijo"
      },
      "source": [
        "import torch\n",
        "import numpy as np"
      ],
      "execution_count": 23,
      "outputs": []
    },
    {
      "cell_type": "code",
      "metadata": {
        "id": "h83xRmDKC_iP"
      },
      "source": [
        "import SparseCOOTensorMulPyTorch"
      ],
      "execution_count": 29,
      "outputs": []
    },
    {
      "cell_type": "markdown",
      "metadata": {
        "id": "bu_H87GOHwrF"
      },
      "source": [
        "##**Test using random two sparse coo matrices**"
      ]
    },
    {
      "cell_type": "code",
      "metadata": {
        "colab": {
          "base_uri": "https://localhost:8080/"
        },
        "id": "mKra5YfV_Wx8",
        "outputId": "2983f042-9813-4602-a899-6e6d7dea75ed"
      },
      "source": [
        "# Index for sparse coo tensor a\n",
        "i_1 = torch.randint(0, 3, (2, 3))\n",
        "\n",
        "# Value for sparse coo tensor a\n",
        "v_1 = torch.squeeze(torch.randint(1, 3, (1, 3)), 0)\n",
        "\n",
        "# Making sparse coo tensor a with i_1 and v_1\n",
        "a = torch.sparse_coo_tensor(i_1, v_1, [3, 3])\n",
        "a"
      ],
      "execution_count": 25,
      "outputs": [
        {
          "output_type": "execute_result",
          "data": {
            "text/plain": [
              "tensor(indices=tensor([[0, 2, 2],\n",
              "                       [2, 2, 0]]),\n",
              "       values=tensor([2, 1, 1]),\n",
              "       size=(3, 3), nnz=3, layout=torch.sparse_coo)"
            ]
          },
          "metadata": {
            "tags": []
          },
          "execution_count": 25
        }
      ]
    },
    {
      "cell_type": "code",
      "metadata": {
        "colab": {
          "base_uri": "https://localhost:8080/"
        },
        "id": "iyurprdV_hlT",
        "outputId": "38ba50a2-21be-47a2-d5f0-71429d0bc4a5"
      },
      "source": [
        "# Index for sparse coo tensor a\n",
        "i_2= torch.randint(0, 3, (2, 3))\n",
        "\n",
        "# Value for sparse coo tensor a\n",
        "v_2 = torch.squeeze(torch.randint(1, 3, (1, 3)), 0)\n",
        "\n",
        "# Making sparse coo tensor b with i_2 and v_2\n",
        "b = torch.sparse_coo_tensor(i_2, v_2, [3, 3])\n",
        "b"
      ],
      "execution_count": 26,
      "outputs": [
        {
          "output_type": "execute_result",
          "data": {
            "text/plain": [
              "tensor(indices=tensor([[2, 0, 0],\n",
              "                       [0, 2, 2]]),\n",
              "       values=tensor([1, 1, 1]),\n",
              "       size=(3, 3), nnz=3, layout=torch.sparse_coo)"
            ]
          },
          "metadata": {
            "tags": []
          },
          "execution_count": 26
        }
      ]
    },
    {
      "cell_type": "code",
      "metadata": {
        "colab": {
          "base_uri": "https://localhost:8080/"
        },
        "id": "cDWO8WXh_qVl",
        "outputId": "09f97492-1e7b-40ec-bf70-26f318717b26"
      },
      "source": [
        "# See the result\n",
        "SparseCOOTensorMulPyTorch.sparse_coo_mul(a, b)"
      ],
      "execution_count": 30,
      "outputs": [
        {
          "output_type": "execute_result",
          "data": {
            "text/plain": [
              "tensor(indices=tensor([[0, 2, 2],\n",
              "                       [0, 2, 0]]),\n",
              "       values=tensor([2, 2, 1]),\n",
              "       size=(3, 3), nnz=3, layout=torch.sparse_coo)"
            ]
          },
          "metadata": {
            "tags": []
          },
          "execution_count": 30
        }
      ]
    },
    {
      "cell_type": "markdown",
      "metadata": {
        "id": "S89SN_72H3TB"
      },
      "source": [
        "##**Check by comparing the function output with torch.matmul() output**"
      ]
    },
    {
      "cell_type": "code",
      "metadata": {
        "colab": {
          "base_uri": "https://localhost:8080/"
        },
        "id": "q4zllwQ-G4N1",
        "outputId": "9533864f-3b0e-4e11-fe2f-d91c782165fb"
      },
      "source": [
        "SparseCOOTensorMulPyTorch.sparse_coo_mul(a, b).to_dense()"
      ],
      "execution_count": 32,
      "outputs": [
        {
          "output_type": "execute_result",
          "data": {
            "text/plain": [
              "tensor([[2, 0, 0],\n",
              "        [0, 0, 0],\n",
              "        [1, 0, 2]])"
            ]
          },
          "metadata": {
            "tags": []
          },
          "execution_count": 32
        }
      ]
    },
    {
      "cell_type": "code",
      "metadata": {
        "colab": {
          "base_uri": "https://localhost:8080/"
        },
        "id": "5u6kCMN4GzN1",
        "outputId": "6b457c39-81ec-4265-ed3a-571375fbac4c"
      },
      "source": [
        "torch.matmul(a.to_dense(), b.to_dense())"
      ],
      "execution_count": 31,
      "outputs": [
        {
          "output_type": "execute_result",
          "data": {
            "text/plain": [
              "tensor([[2, 0, 0],\n",
              "        [0, 0, 0],\n",
              "        [1, 0, 2]])"
            ]
          },
          "metadata": {
            "tags": []
          },
          "execution_count": 31
        }
      ]
    }
  ]
}