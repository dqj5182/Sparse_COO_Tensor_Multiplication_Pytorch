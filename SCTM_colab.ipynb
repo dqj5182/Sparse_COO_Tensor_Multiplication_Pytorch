{
  "nbformat": 4,
  "nbformat_minor": 0,
  "metadata": {
    "colab": {
      "name": "SCTM colab practice.ipynb",
      "provenance": [],
      "authorship_tag": "ABX9TyOUdYzYdSW6OjqMwuif6EQ/",
      "include_colab_link": true
    },
    "kernelspec": {
      "name": "python3",
      "display_name": "Python 3"
    },
    "language_info": {
      "name": "python"
    }
  },
  "cells": [
    {
      "cell_type": "markdown",
      "metadata": {
        "id": "view-in-github",
        "colab_type": "text"
      },
      "source": [
        "<a href=\"https://colab.research.google.com/github/dqj5182/Sparse_COO_Tensor_Multiplication_Pytorch/blob/main/SCTM_colab.ipynb\" target=\"_parent\"><img src=\"https://colab.research.google.com/assets/colab-badge.svg\" alt=\"Open In Colab\"/></a>"
      ]
    },
    {
      "cell_type": "markdown",
      "metadata": {
        "id": "5KM0pabsKZ4O"
      },
      "source": [
        "#**This function is based on PyTorch**"
      ]
    },
    {
      "cell_type": "code",
      "metadata": {
        "id": "I-yWI9QJ0gxF"
      },
      "source": [
        "import torch\n",
        "import numpy as np"
      ],
      "execution_count": 1,
      "outputs": []
    },
    {
      "cell_type": "markdown",
      "metadata": {
        "id": "YQ4oaagh153X"
      },
      "source": [
        "### **Sparse Tensor (dot product) Multiplication Function** </br>\n",
        "*This function allows us to do tensor matrix multiplication for two sparse coo tensors. In other words, it is like doing torch.matmul with two sparse coo tensors, outputting one sparse coo tensor. </br>*\n",
        "Input: Two Sparse COO Tensors </br>\n",
        "Output: One Sparse COO Tensor (dot product result of two sparse COO tensor)\n",
        "*There were no sparse to dense convert"
      ]
    },
    {
      "cell_type": "code",
      "metadata": {
        "id": "XXjeAZMY18wt"
      },
      "source": [
        "def sparse_coo_mul(tensor1, tensor2):\n",
        "  # **tensor1 and tensor2 should be data type torch.sparse_coo_tensor\n",
        "  tensor1_indices = tensor1.coalesce().indices() # Get indices of sparse coo tensor 1\n",
        "  tensor2_indices = tensor2.coalesce().indices() # Get indices of sparse coo tensor 2\n",
        "  tensor1_values = tensor1.coalesce().values() # Get values of sparse coo tensor 1\n",
        "  tensor2_values = tensor2.coalesce().values() # Get values of sparse coo tensor 2\n",
        "\n",
        "  def swap_two_rows(tensor):\n",
        "    # This function swaps first row and second row of (usually) index tensor (first parameter for torch.sparse_coo_tensor())\n",
        "    index = [1, 0]\n",
        "    tensor[index,] = tensor.clone() # Swaps first and second row\n",
        "    return tensor\n",
        "\n",
        "  test_1 = tensor1_indices.t() # Transpose index tensor, as this transposed tensor has non-zero sparse tensor coordinates in each rows\n",
        "  test_2 = swap_two_rows(tensor2_indices).t() # Transpose for same reason. Swapping first and second row due to \"the property of mat mul\"\n",
        "  # \"the property of mat mul\"\n",
        "  # If you think carefully on matrix multiplication, you can see that we are multiplying elements in rows of first matrix and cols of second matrix where\n",
        "  # row index of first matrix = col index of second matrix. For such row and col, we multiply each elements of first and second matrices where col index of\n",
        "  # first index = row index of second index.\n",
        "\n",
        "  # The reason for swapping rows:\n",
        "  # This is more of convenience than necessity. Let columns of first matrix as col1, columns of second matrix as col2, rows of first matrix as row1,\n",
        "  # rows of second matrix as row2. As by \"the property of mat mul\" said above, we need to first meet row1 = col2. Then, we need to sum the multiplication\n",
        "  # of elements that meet col1 = row2. This is just how matrix multiplication is. Nothing too complicated.\n",
        "\n",
        "  mul_i_j = [] # A list that will store multiplication results of each one element from first matrix and second matrix\n",
        "  # This will be later summed up just like how matrix multiplication works\n",
        "\n",
        "  final = {} # A dict that will store output matrix coordinate and multiplication result.\n",
        "\n",
        "  final_list = [] # A list that will store final outputted indecies and values for returning sparse coo tensor. \n",
        "  # This will be used to make returning sparse coo tensor (new_sparse_coo_tensor)\n",
        "\n",
        "  for i, val_i in enumerate(test_1):\n",
        "    for j, val_j in enumerate(test_2):\n",
        "\n",
        "      if torch.equal(val_i[1], val_j[1]):\n",
        "        mul_i_j.append([val_i[0].item(), val_j[0].item(), (tensor1_values[i]*tensor2_values[j]).item()]) # val_i[0]: row 1, val_i[1]: col 1, val_j[0]: col 2, val_j[1]: row 2\n",
        "\n",
        "  # Try print(mul_i_j) to see how this works\n",
        "  for ele1, ele2, ele3 in mul_i_j: # For each multiplications\n",
        "    if (ele1, ele2) not in final: # If there were not yet multiplication result regarding the output coordinate\n",
        "      final[(ele1, ele2)] = ele3 # Store the multiplication result for the regarding output coordinate\n",
        "    else: # If there were already multiplication result regarding the output coordinate\n",
        "      final[(ele1, ele2)] = final[(ele1, ele2)] + ele3 # Add the multiplication result for the existing regarding output coordinate\n",
        "\n",
        "  for key, value in final.items(): # For keys and values in dictionary \"final\"\n",
        "    temp = [key[0], key[1] ,value] # Make this dictionary as list of lists\n",
        "    final_list.append(temp)\n",
        "\n",
        "  final_list = np.array(final_list).T # Transpose back to make index tensor and value tensor used for parameters in torch.sparse_coo_tensor()\n",
        "\n",
        "  new_index = final_list[0:2,] # Will be put into torch.sparse_coo_tensor() as first parameter \n",
        "  new_value = final_list[2,] # Will be put into torch.sparse_coo_tensor() as second parameter\n",
        "\n",
        "  new_sparse_coo_tensor = torch.sparse_coo_tensor(new_index, new_value) # Finally made sparse_coo_tensor to be returned\n",
        "  \n",
        "  return new_sparse_coo_tensor"
      ],
      "execution_count": 2,
      "outputs": []
    },
    {
      "cell_type": "markdown",
      "metadata": {
        "id": "A04QC8--Iy-D"
      },
      "source": [
        "### **Testing with two sparse COO tensors** </br>"
      ]
    },
    {
      "cell_type": "code",
      "metadata": {
        "colab": {
          "base_uri": "https://localhost:8080/"
        },
        "id": "ia3YZmVvmoqg",
        "outputId": "92d4b022-1e9e-4bb6-fad8-fe4f58ea3bf1"
      },
      "source": [
        "# Index for sparse coo tensor a\n",
        "i_1 = torch.tensor([[0, 1, 1],\n",
        "                  [2, 1, 2]])\n",
        "# Value for sparse coo tensor a\n",
        "v_1 = torch.tensor([3, 4, 5], dtype=torch.float32)\n",
        "\n",
        "# Making sparse coo tensor a with i_1 and v_1\n",
        "a = torch.sparse_coo_tensor(i_1, v_1)\n",
        "a"
      ],
      "execution_count": 3,
      "outputs": [
        {
          "output_type": "execute_result",
          "data": {
            "text/plain": [
              "tensor(indices=tensor([[0, 1, 1],\n",
              "                       [2, 1, 2]]),\n",
              "       values=tensor([3., 4., 5.]),\n",
              "       size=(2, 3), nnz=3, layout=torch.sparse_coo)"
            ]
          },
          "metadata": {
            "tags": []
          },
          "execution_count": 3
        }
      ]
    },
    {
      "cell_type": "code",
      "metadata": {
        "colab": {
          "base_uri": "https://localhost:8080/"
        },
        "id": "0kcFzCkzmuuA",
        "outputId": "0cd851be-90a9-4525-d076-30f5ffde4d2e"
      },
      "source": [
        "# Index for sparse coo tensor b\n",
        "i_2 = torch.tensor([[2, 1, 1],\n",
        "                  [1, 0, 1]])\n",
        "\n",
        "# Value for sparse coo tensor b\n",
        "v_2 = torch.tensor([1, 7, 2], dtype=torch.float32)\n",
        "\n",
        "# Making sparse coo tensor b with i_2 and v_2\n",
        "b = torch.sparse_coo_tensor(i_2, v_2)\n",
        "b"
      ],
      "execution_count": 4,
      "outputs": [
        {
          "output_type": "execute_result",
          "data": {
            "text/plain": [
              "tensor(indices=tensor([[2, 1, 1],\n",
              "                       [1, 0, 1]]),\n",
              "       values=tensor([1., 7., 2.]),\n",
              "       size=(3, 2), nnz=3, layout=torch.sparse_coo)"
            ]
          },
          "metadata": {
            "tags": []
          },
          "execution_count": 4
        }
      ]
    },
    {
      "cell_type": "code",
      "metadata": {
        "colab": {
          "base_uri": "https://localhost:8080/"
        },
        "id": "7WPJOxy2mzNk",
        "outputId": "c0ed80c1-523e-4e98-8752-b0faf18ca819"
      },
      "source": [
        "# See the result\n",
        "sparse_coo_mul(a, b)"
      ],
      "execution_count": 5,
      "outputs": [
        {
          "output_type": "execute_result",
          "data": {
            "text/plain": [
              "tensor(indices=tensor([[0, 1, 1],\n",
              "                       [1, 0, 1]]),\n",
              "       values=tensor([ 3., 28., 13.]),\n",
              "       size=(2, 2), nnz=3, dtype=torch.float64, layout=torch.sparse_coo)"
            ]
          },
          "metadata": {
            "tags": []
          },
          "execution_count": 5
        }
      ]
    },
    {
      "cell_type": "markdown",
      "metadata": {
        "id": "Z48kOvXEI8MP"
      },
      "source": [
        "###**Comparing results with matmul**"
      ]
    },
    {
      "cell_type": "markdown",
      "metadata": {
        "id": "B3Iq-QOHJfVU"
      },
      "source": [
        "1. Make sparse tensor a and b as dense tensor\n",
        "2. Use torch.matmul to multiply those two tensors"
      ]
    },
    {
      "cell_type": "code",
      "metadata": {
        "colab": {
          "base_uri": "https://localhost:8080/"
        },
        "id": "QxC9xdsnI8ca",
        "outputId": "83feef6b-c798-4996-8604-d95deaa258b8"
      },
      "source": [
        "torch.matmul(a.to_dense(), b.to_dense())"
      ],
      "execution_count": 6,
      "outputs": [
        {
          "output_type": "execute_result",
          "data": {
            "text/plain": [
              "tensor([[ 0.,  3.],\n",
              "        [28., 13.]])"
            ]
          },
          "metadata": {
            "tags": []
          },
          "execution_count": 6
        }
      ]
    },
    {
      "cell_type": "markdown",
      "metadata": {
        "id": "n86Jk9nmJoED"
      },
      "source": [
        "1. Use sparse_coo_mul(a, b) to multiply two sparse tensor\n",
        "2. Make the multiplication result into dense tensor for easy comparison"
      ]
    },
    {
      "cell_type": "code",
      "metadata": {
        "colab": {
          "base_uri": "https://localhost:8080/"
        },
        "id": "X3rPaED_JQh9",
        "outputId": "654189d1-3c6f-4afc-bc4a-835db22ef4e8"
      },
      "source": [
        "sparse_coo_mul(a, b).to_dense()"
      ],
      "execution_count": 7,
      "outputs": [
        {
          "output_type": "execute_result",
          "data": {
            "text/plain": [
              "tensor([[ 0.,  3.],\n",
              "        [28., 13.]], dtype=torch.float64)"
            ]
          },
          "metadata": {
            "tags": []
          },
          "execution_count": 7
        }
      ]
    },
    {
      "cell_type": "markdown",
      "metadata": {
        "id": "lLc1xr4SJ3GJ"
      },
      "source": [
        "Original sparse coo tensor output for reference"
      ]
    },
    {
      "cell_type": "code",
      "metadata": {
        "colab": {
          "base_uri": "https://localhost:8080/"
        },
        "id": "tqFTuojiI8ed",
        "outputId": "17aedb39-83a9-41f8-c08c-b05ba82a6247"
      },
      "source": [
        "sparse_coo_mul(a, b)"
      ],
      "execution_count": 8,
      "outputs": [
        {
          "output_type": "execute_result",
          "data": {
            "text/plain": [
              "tensor(indices=tensor([[0, 1, 1],\n",
              "                       [1, 0, 1]]),\n",
              "       values=tensor([ 3., 28., 13.]),\n",
              "       size=(2, 2), nnz=3, dtype=torch.float64, layout=torch.sparse_coo)"
            ]
          },
          "metadata": {
            "tags": []
          },
          "execution_count": 8
        }
      ]
    }
  ]
}