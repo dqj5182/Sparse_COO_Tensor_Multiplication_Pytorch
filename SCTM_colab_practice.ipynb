{
  "nbformat": 4,
  "nbformat_minor": 0,
  "metadata": {
    "colab": {
      "name": "SCTM colab practice.ipynb",
      "provenance": [],
      "authorship_tag": "ABX9TyPBgYfbA1iBvKLgUWawkdab",
      "include_colab_link": true
    },
    "kernelspec": {
      "name": "python3",
      "display_name": "Python 3"
    },
    "language_info": {
      "name": "python"
    }
  },
  "cells": [
    {
      "cell_type": "markdown",
      "metadata": {
        "id": "view-in-github",
        "colab_type": "text"
      },
      "source": [
        "<a href=\"https://colab.research.google.com/github/dqj5182/Sparse_COO_Tensor_Multiplication_Pytorch/blob/main/SCTM_colab_practice.ipynb\" target=\"_parent\"><img src=\"https://colab.research.google.com/assets/colab-badge.svg\" alt=\"Open In Colab\"/></a>"
      ]
    },
    {
      "cell_type": "code",
      "metadata": {
        "id": "I-yWI9QJ0gxF"
      },
      "source": [
        "import torch\n",
        "import numpy as np"
      ],
      "execution_count": null,
      "outputs": []
    },
    {
      "cell_type": "markdown",
      "metadata": {
        "id": "YQ4oaagh153X"
      },
      "source": [
        "Sparse Matrix Multiplication Function"
      ]
    },
    {
      "cell_type": "code",
      "metadata": {
        "id": "XXjeAZMY18wt"
      },
      "source": [
        "def sparse_coo_mul(tensor1, tensor2):\n",
        "  tensor1_indices = tensor1.coalesce().indices()\n",
        "  tensor2_indices = tensor2.coalesce().indices()\n",
        "  tensor1_values = tensor1.coalesce().values()\n",
        "  tensor2_values = tensor2.coalesce().values()\n",
        "\n",
        "  def swap_two_rows(tensor):\n",
        "    index = [1, 0]\n",
        "    tensor[index,] = tensor.clone()\n",
        "    return tensor\n",
        "\n",
        "  test_1 = tensor1_indices.t()\n",
        "  test_2 = swap_two_rows(tensor2_indices).t()\n",
        "\n",
        "  mul_i_j = []\n",
        "\n",
        "  final = {}\n",
        "\n",
        "  final_list = []\n",
        "\n",
        "  for i, val_i in enumerate(test_1):\n",
        "    for j, val_j in enumerate(test_2):\n",
        "\n",
        "      if torch.equal(val_i[1], val_j[1]):\n",
        "        mul_i_j.append([val_i[0].item(), val_j[0].item(), (tensor1_values[i]*tensor2_values[j]).item()]) # val_i[0]: row 1, val_i[1]: col 1, val_j[0]: col 2, val_j[1]: row 2\n",
        "\n",
        "  for ele1, ele2, ele3 in mul_i_j:\n",
        "\n",
        "    if (ele1, ele2) not in final:\n",
        "      final[(ele1, ele2)] = ele3\n",
        "    else:\n",
        "      final[(ele1, ele2)] = final[(ele1, ele2)] + ele3\n",
        "\n",
        "  for key, value in final.items():\n",
        "    temp = [key[0], key[1] ,value]\n",
        "    final_list.append(temp)\n",
        "\n",
        "  final_list = np.array(final_list).T\n",
        "\n",
        "  new_index = final_list[0:2,]\n",
        "  new_value = final_list[2,]\n",
        "\n",
        "  new_sparse_coo_tensor = torch.sparse_coo_tensor(new_index, new_value)\n",
        "  \n",
        "  return new_sparse_coo_tensor"
      ],
      "execution_count": null,
      "outputs": []
    },
    {
      "cell_type": "code",
      "metadata": {
        "colab": {
          "base_uri": "https://localhost:8080/"
        },
        "id": "ia3YZmVvmoqg",
        "outputId": "f11cd532-8269-4cf8-e957-b072ac6bd2e5"
      },
      "source": [
        "i_1 = torch.tensor([[0, 1, 1],\n",
        "                  [2, 1, 2]])\n",
        "v_1 = torch.tensor([3, 4, 5], dtype=torch.float32)\n",
        "\n",
        "a = torch.sparse_coo_tensor(i_1, v_1)\n",
        "a"
      ],
      "execution_count": null,
      "outputs": [
        {
          "output_type": "execute_result",
          "data": {
            "text/plain": [
              "tensor(indices=tensor([[0, 1, 1],\n",
              "                       [2, 1, 2]]),\n",
              "       values=tensor([3., 4., 5.]),\n",
              "       size=(2, 3), nnz=3, layout=torch.sparse_coo)"
            ]
          },
          "metadata": {
            "tags": []
          },
          "execution_count": 50
        }
      ]
    },
    {
      "cell_type": "code",
      "metadata": {
        "colab": {
          "base_uri": "https://localhost:8080/"
        },
        "id": "0kcFzCkzmuuA",
        "outputId": "b0a88022-c5cb-4e6b-c766-049fdc4b72f0"
      },
      "source": [
        "i_2 = torch.tensor([[2, 1, 1],\n",
        "                  [1, 0, 1]])\n",
        "v_2 = torch.tensor([1, 7, 2], dtype=torch.float32)\n",
        "\n",
        "b = torch.sparse_coo_tensor(i_2, v_2)\n",
        "b"
      ],
      "execution_count": null,
      "outputs": [
        {
          "output_type": "execute_result",
          "data": {
            "text/plain": [
              "tensor(indices=tensor([[2, 1, 1],\n",
              "                       [1, 0, 1]]),\n",
              "       values=tensor([1., 7., 2.]),\n",
              "       size=(3, 2), nnz=3, layout=torch.sparse_coo)"
            ]
          },
          "metadata": {
            "tags": []
          },
          "execution_count": 51
        }
      ]
    },
    {
      "cell_type": "code",
      "metadata": {
        "colab": {
          "base_uri": "https://localhost:8080/"
        },
        "id": "7WPJOxy2mzNk",
        "outputId": "451abbe1-ddd2-4107-b5e1-705fc304c23f"
      },
      "source": [
        "sparse_coo_mul(a, b)"
      ],
      "execution_count": null,
      "outputs": [
        {
          "output_type": "execute_result",
          "data": {
            "text/plain": [
              "tensor(indices=tensor([[0, 1, 1],\n",
              "                       [1, 0, 1]]),\n",
              "       values=tensor([ 3., 28., 13.]),\n",
              "       size=(2, 2), nnz=3, dtype=torch.float64, layout=torch.sparse_coo)"
            ]
          },
          "metadata": {
            "tags": []
          },
          "execution_count": 116
        }
      ]
    }
  ]
}