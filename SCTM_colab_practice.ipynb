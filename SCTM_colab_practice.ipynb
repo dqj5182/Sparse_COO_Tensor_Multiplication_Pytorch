{
  "nbformat": 4,
  "nbformat_minor": 0,
  "metadata": {
    "colab": {
      "name": "SCTM colab practice.ipynb",
      "provenance": [],
      "authorship_tag": "ABX9TyOrr2j8Dz9wALi/4/EpjRg7",
      "include_colab_link": true
    },
    "kernelspec": {
      "name": "python3",
      "display_name": "Python 3"
    },
    "language_info": {
      "name": "python"
    }
  },
  "cells": [
    {
      "cell_type": "markdown",
      "metadata": {
        "id": "view-in-github",
        "colab_type": "text"
      },
      "source": [
        "<a href=\"https://colab.research.google.com/github/dqj5182/Sparse_COO_Tensor_Multiplication_Pytorch/blob/main/SCTM_colab_practice.ipynb\" target=\"_parent\"><img src=\"https://colab.research.google.com/assets/colab-badge.svg\" alt=\"Open In Colab\"/></a>"
      ]
    },
    {
      "cell_type": "markdown",
      "metadata": {
        "id": "5KM0pabsKZ4O"
      },
      "source": [
        "#**This function is based on PyTorch**"
      ]
    },
    {
      "cell_type": "code",
      "metadata": {
        "id": "I-yWI9QJ0gxF"
      },
      "source": [
        "import torch\n",
        "import numpy as np"
      ],
      "execution_count": 1,
      "outputs": []
    },
    {
      "cell_type": "markdown",
      "metadata": {
        "id": "YQ4oaagh153X"
      },
      "source": [
        "### **Sparse Tensor (dot product) Multiplication Function** </br>\n",
        "*This function allows us to do tensor matrix multiplication for two sparse coo tensors. In other words, it is like doing torch.matmul with two sparse coo tensors, outputting one sparse coo tensor. </br>*\n",
        "Input: Two Sparse COO Tensors </br>\n",
        "Output: One Sparse COO Tensor (dot product result of two sparse COO tensor)\n",
        "*There were no sparse to dense convert"
      ]
    },
    {
      "cell_type": "code",
      "metadata": {
        "id": "XXjeAZMY18wt"
      },
      "source": [
        "def sparse_coo_mul(tensor1, tensor2):\n",
        "  tensor1_indices = tensor1.coalesce().indices()\n",
        "  tensor2_indices = tensor2.coalesce().indices()\n",
        "  tensor1_values = tensor1.coalesce().values()\n",
        "  tensor2_values = tensor2.coalesce().values()\n",
        "\n",
        "  def swap_two_rows(tensor):\n",
        "    index = [1, 0]\n",
        "    tensor[index,] = tensor.clone()\n",
        "    return tensor\n",
        "\n",
        "  test_1 = tensor1_indices.t()\n",
        "  test_2 = swap_two_rows(tensor2_indices).t()\n",
        "\n",
        "  mul_i_j = []\n",
        "\n",
        "  final = {}\n",
        "\n",
        "  final_list = []\n",
        "\n",
        "  for i, val_i in enumerate(test_1):\n",
        "    for j, val_j in enumerate(test_2):\n",
        "\n",
        "      if torch.equal(val_i[1], val_j[1]):\n",
        "        mul_i_j.append([val_i[0].item(), val_j[0].item(), (tensor1_values[i]*tensor2_values[j]).item()]) # val_i[0]: row 1, val_i[1]: col 1, val_j[0]: col 2, val_j[1]: row 2\n",
        "\n",
        "  for ele1, ele2, ele3 in mul_i_j:\n",
        "\n",
        "    if (ele1, ele2) not in final:\n",
        "      final[(ele1, ele2)] = ele3\n",
        "    else:\n",
        "      final[(ele1, ele2)] = final[(ele1, ele2)] + ele3\n",
        "\n",
        "  for key, value in final.items():\n",
        "    temp = [key[0], key[1] ,value]\n",
        "    final_list.append(temp)\n",
        "\n",
        "  final_list = np.array(final_list).T\n",
        "\n",
        "  new_index = final_list[0:2,]\n",
        "  new_value = final_list[2,]\n",
        "\n",
        "  new_sparse_coo_tensor = torch.sparse_coo_tensor(new_index, new_value)\n",
        "  \n",
        "  return new_sparse_coo_tensor"
      ],
      "execution_count": 2,
      "outputs": []
    },
    {
      "cell_type": "markdown",
      "metadata": {
        "id": "A04QC8--Iy-D"
      },
      "source": [
        "### **Testing with two sparse COO tensors** </br>"
      ]
    },
    {
      "cell_type": "code",
      "metadata": {
        "colab": {
          "base_uri": "https://localhost:8080/"
        },
        "id": "ia3YZmVvmoqg",
        "outputId": "92d4b022-1e9e-4bb6-fad8-fe4f58ea3bf1"
      },
      "source": [
        "i_1 = torch.tensor([[0, 1, 1],\n",
        "                  [2, 1, 2]])\n",
        "v_1 = torch.tensor([3, 4, 5], dtype=torch.float32)\n",
        "\n",
        "a = torch.sparse_coo_tensor(i_1, v_1)\n",
        "a"
      ],
      "execution_count": 3,
      "outputs": [
        {
          "output_type": "execute_result",
          "data": {
            "text/plain": [
              "tensor(indices=tensor([[0, 1, 1],\n",
              "                       [2, 1, 2]]),\n",
              "       values=tensor([3., 4., 5.]),\n",
              "       size=(2, 3), nnz=3, layout=torch.sparse_coo)"
            ]
          },
          "metadata": {
            "tags": []
          },
          "execution_count": 3
        }
      ]
    },
    {
      "cell_type": "code",
      "metadata": {
        "colab": {
          "base_uri": "https://localhost:8080/"
        },
        "id": "0kcFzCkzmuuA",
        "outputId": "0cd851be-90a9-4525-d076-30f5ffde4d2e"
      },
      "source": [
        "i_2 = torch.tensor([[2, 1, 1],\n",
        "                  [1, 0, 1]])\n",
        "v_2 = torch.tensor([1, 7, 2], dtype=torch.float32)\n",
        "\n",
        "b = torch.sparse_coo_tensor(i_2, v_2)\n",
        "b"
      ],
      "execution_count": 4,
      "outputs": [
        {
          "output_type": "execute_result",
          "data": {
            "text/plain": [
              "tensor(indices=tensor([[2, 1, 1],\n",
              "                       [1, 0, 1]]),\n",
              "       values=tensor([1., 7., 2.]),\n",
              "       size=(3, 2), nnz=3, layout=torch.sparse_coo)"
            ]
          },
          "metadata": {
            "tags": []
          },
          "execution_count": 4
        }
      ]
    },
    {
      "cell_type": "code",
      "metadata": {
        "colab": {
          "base_uri": "https://localhost:8080/"
        },
        "id": "7WPJOxy2mzNk",
        "outputId": "c0ed80c1-523e-4e98-8752-b0faf18ca819"
      },
      "source": [
        "sparse_coo_mul(a, b)"
      ],
      "execution_count": 5,
      "outputs": [
        {
          "output_type": "execute_result",
          "data": {
            "text/plain": [
              "tensor(indices=tensor([[0, 1, 1],\n",
              "                       [1, 0, 1]]),\n",
              "       values=tensor([ 3., 28., 13.]),\n",
              "       size=(2, 2), nnz=3, dtype=torch.float64, layout=torch.sparse_coo)"
            ]
          },
          "metadata": {
            "tags": []
          },
          "execution_count": 5
        }
      ]
    },
    {
      "cell_type": "markdown",
      "metadata": {
        "id": "Z48kOvXEI8MP"
      },
      "source": [
        "###**Comparing results with matmul**"
      ]
    },
    {
      "cell_type": "markdown",
      "metadata": {
        "id": "B3Iq-QOHJfVU"
      },
      "source": [
        "1. Make sparse tensor a and b as dense tensor\n",
        "2. Use torch.matmul to multiply those two tensors"
      ]
    },
    {
      "cell_type": "code",
      "metadata": {
        "colab": {
          "base_uri": "https://localhost:8080/"
        },
        "id": "QxC9xdsnI8ca",
        "outputId": "83feef6b-c798-4996-8604-d95deaa258b8"
      },
      "source": [
        "torch.matmul(a.to_dense(), b.to_dense())"
      ],
      "execution_count": 6,
      "outputs": [
        {
          "output_type": "execute_result",
          "data": {
            "text/plain": [
              "tensor([[ 0.,  3.],\n",
              "        [28., 13.]])"
            ]
          },
          "metadata": {
            "tags": []
          },
          "execution_count": 6
        }
      ]
    },
    {
      "cell_type": "markdown",
      "metadata": {
        "id": "n86Jk9nmJoED"
      },
      "source": [
        "1. Use sparse_coo_mul(a, b) to multiply two sparse tensor\n",
        "2. Make the multiplication result into dense tensor for easy comparison"
      ]
    },
    {
      "cell_type": "code",
      "metadata": {
        "colab": {
          "base_uri": "https://localhost:8080/"
        },
        "id": "X3rPaED_JQh9",
        "outputId": "654189d1-3c6f-4afc-bc4a-835db22ef4e8"
      },
      "source": [
        "sparse_coo_mul(a, b).to_dense()"
      ],
      "execution_count": 7,
      "outputs": [
        {
          "output_type": "execute_result",
          "data": {
            "text/plain": [
              "tensor([[ 0.,  3.],\n",
              "        [28., 13.]], dtype=torch.float64)"
            ]
          },
          "metadata": {
            "tags": []
          },
          "execution_count": 7
        }
      ]
    },
    {
      "cell_type": "markdown",
      "metadata": {
        "id": "lLc1xr4SJ3GJ"
      },
      "source": [
        "Original sparse coo tensor output for reference"
      ]
    },
    {
      "cell_type": "code",
      "metadata": {
        "colab": {
          "base_uri": "https://localhost:8080/"
        },
        "id": "tqFTuojiI8ed",
        "outputId": "17aedb39-83a9-41f8-c08c-b05ba82a6247"
      },
      "source": [
        "sparse_coo_mul(a, b)"
      ],
      "execution_count": 8,
      "outputs": [
        {
          "output_type": "execute_result",
          "data": {
            "text/plain": [
              "tensor(indices=tensor([[0, 1, 1],\n",
              "                       [1, 0, 1]]),\n",
              "       values=tensor([ 3., 28., 13.]),\n",
              "       size=(2, 2), nnz=3, dtype=torch.float64, layout=torch.sparse_coo)"
            ]
          },
          "metadata": {
            "tags": []
          },
          "execution_count": 8
        }
      ]
    },
    {
      "cell_type": "code",
      "metadata": {
        "id": "pZD9XNWcI8gm"
      },
      "source": [
        ""
      ],
      "execution_count": 8,
      "outputs": []
    }
  ]
}